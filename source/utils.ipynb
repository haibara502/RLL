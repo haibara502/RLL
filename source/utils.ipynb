{
 "cells": [
  {
   "cell_type": "code",
   "execution_count": 1,
   "metadata": {},
   "outputs": [],
   "source": [
    "import pandas as pd\n",
    "import numpy as np\n",
    "import os\n",
    "from sklearn.utils import shuffle\n",
    "from sklearn.model_selection import train_test_split"
   ]
  },
  {
   "cell_type": "code",
   "execution_count": 91,
   "metadata": {},
   "outputs": [
    {
     "data": {
      "text/html": [
       "<div>\n",
       "<style scoped>\n",
       "    .dataframe tbody tr th:only-of-type {\n",
       "        vertical-align: middle;\n",
       "    }\n",
       "\n",
       "    .dataframe tbody tr th {\n",
       "        vertical-align: top;\n",
       "    }\n",
       "\n",
       "    .dataframe thead th {\n",
       "        text-align: right;\n",
       "    }\n",
       "</style>\n",
       "<table border=\"1\" class=\"dataframe\">\n",
       "  <thead>\n",
       "    <tr style=\"text-align: right;\">\n",
       "      <th></th>\n",
       "      <th>mv_fluency</th>\n",
       "      <th>votes</th>\n",
       "      <th>AvgCharPerSent</th>\n",
       "      <th>AvgSpeed</th>\n",
       "      <th>CharNumVar</th>\n",
       "      <th>CharNum_25Per</th>\n",
       "      <th>CharNum_50Per</th>\n",
       "      <th>CharNum_75Per</th>\n",
       "      <th>CharNum_Avg</th>\n",
       "      <th>CharNum_Max</th>\n",
       "      <th>...</th>\n",
       "      <th>TotalAdvNum</th>\n",
       "      <th>TotalCharNum</th>\n",
       "      <th>TotalNounNum</th>\n",
       "      <th>TotalPauseWordNum</th>\n",
       "      <th>TotalQuestionSentNum</th>\n",
       "      <th>TotalSentNum</th>\n",
       "      <th>TotalVerbNum</th>\n",
       "      <th>TotalXNum</th>\n",
       "      <th>VoiceLen</th>\n",
       "      <th>VoiceOverFilePercent</th>\n",
       "    </tr>\n",
       "  </thead>\n",
       "  <tbody>\n",
       "    <tr>\n",
       "      <th>0</th>\n",
       "      <td>1</td>\n",
       "      <td>5</td>\n",
       "      <td>19.666667</td>\n",
       "      <td>2.478927</td>\n",
       "      <td>36.222222</td>\n",
       "      <td>15.5</td>\n",
       "      <td>17.0</td>\n",
       "      <td>22.50</td>\n",
       "      <td>19.666667</td>\n",
       "      <td>28</td>\n",
       "      <td>...</td>\n",
       "      <td>2</td>\n",
       "      <td>59</td>\n",
       "      <td>3</td>\n",
       "      <td>1</td>\n",
       "      <td>0</td>\n",
       "      <td>3</td>\n",
       "      <td>6</td>\n",
       "      <td>2</td>\n",
       "      <td>23.386</td>\n",
       "      <td>0.928248</td>\n",
       "    </tr>\n",
       "    <tr>\n",
       "      <th>1</th>\n",
       "      <td>1</td>\n",
       "      <td>5</td>\n",
       "      <td>17.833333</td>\n",
       "      <td>2.914322</td>\n",
       "      <td>207.472222</td>\n",
       "      <td>8.0</td>\n",
       "      <td>14.5</td>\n",
       "      <td>21.75</td>\n",
       "      <td>17.833333</td>\n",
       "      <td>46</td>\n",
       "      <td>...</td>\n",
       "      <td>9</td>\n",
       "      <td>107</td>\n",
       "      <td>5</td>\n",
       "      <td>9</td>\n",
       "      <td>0</td>\n",
       "      <td>6</td>\n",
       "      <td>17</td>\n",
       "      <td>1</td>\n",
       "      <td>35.490</td>\n",
       "      <td>0.879416</td>\n",
       "    </tr>\n",
       "    <tr>\n",
       "      <th>2</th>\n",
       "      <td>0</td>\n",
       "      <td>0</td>\n",
       "      <td>5.966667</td>\n",
       "      <td>1.949080</td>\n",
       "      <td>41.232222</td>\n",
       "      <td>2.0</td>\n",
       "      <td>5.0</td>\n",
       "      <td>6.75</td>\n",
       "      <td>5.966667</td>\n",
       "      <td>35</td>\n",
       "      <td>...</td>\n",
       "      <td>4</td>\n",
       "      <td>179</td>\n",
       "      <td>6</td>\n",
       "      <td>2</td>\n",
       "      <td>3</td>\n",
       "      <td>30</td>\n",
       "      <td>43</td>\n",
       "      <td>22</td>\n",
       "      <td>86.530</td>\n",
       "      <td>0.581363</td>\n",
       "    </tr>\n",
       "  </tbody>\n",
       "</table>\n",
       "<p>3 rows × 52 columns</p>\n",
       "</div>"
      ],
      "text/plain": [
       "   mv_fluency  votes  AvgCharPerSent  AvgSpeed  CharNumVar  CharNum_25Per  \\\n",
       "0           1      5       19.666667  2.478927   36.222222           15.5   \n",
       "1           1      5       17.833333  2.914322  207.472222            8.0   \n",
       "2           0      0        5.966667  1.949080   41.232222            2.0   \n",
       "\n",
       "   CharNum_50Per  CharNum_75Per  CharNum_Avg  CharNum_Max  \\\n",
       "0           17.0          22.50    19.666667           28   \n",
       "1           14.5          21.75    17.833333           46   \n",
       "2            5.0           6.75     5.966667           35   \n",
       "\n",
       "           ...           TotalAdvNum  TotalCharNum  TotalNounNum  \\\n",
       "0          ...                     2            59             3   \n",
       "1          ...                     9           107             5   \n",
       "2          ...                     4           179             6   \n",
       "\n",
       "   TotalPauseWordNum  TotalQuestionSentNum  TotalSentNum  TotalVerbNum  \\\n",
       "0                  1                     0             3             6   \n",
       "1                  9                     0             6            17   \n",
       "2                  2                     3            30            43   \n",
       "\n",
       "   TotalXNum  VoiceLen  VoiceOverFilePercent  \n",
       "0          2    23.386              0.928248  \n",
       "1          1    35.490              0.879416  \n",
       "2         22    86.530              0.581363  \n",
       "\n",
       "[3 rows x 52 columns]"
      ]
     },
     "execution_count": 91,
     "metadata": {},
     "output_type": "execute_result"
    }
   ],
   "source": [
    "df = pd.read_csv('../raw_data/test.csv').drop(columns=['id'])\n",
    "df.columns\n",
    "tmp= [df.columns[1]] + [df.columns[0]] +list(df.columns[2:])\n",
    "df = df[tmp]\n",
    "data = np.array(df)\n",
    "df.iloc[:3]"
   ]
  },
  {
   "cell_type": "code",
   "execution_count": 92,
   "metadata": {},
   "outputs": [],
   "source": [
    "#col1:label, col2:weight"
   ]
  },
  {
   "cell_type": "code",
   "execution_count": 94,
   "metadata": {},
   "outputs": [],
   "source": [
    "data = inferWeight(data)"
   ]
  },
  {
   "cell_type": "code",
   "execution_count": 74,
   "metadata": {},
   "outputs": [],
   "source": [
    "def inferWeight(data, alpha=None, beta=None):    \n",
    "    votes = data[:,1]\n",
    "    maxVote = max(votes)\n",
    "    weights = []\n",
    "    for i in range(votes.shape[0]):\n",
    "        v = votes[i]\n",
    "        if(v>=(1+maxVote)/2):\n",
    "            if(alpha==None or beta==None):\n",
    "                weights.append(float(v/maxVote))\n",
    "            else:\n",
    "                weights.append(float((v+alpha)/(maxVote+alpha+beta)))\n",
    "        else:\n",
    "            if(alpha==None or beta==None):\n",
    "                weights.append(1-float(v/maxVote))\n",
    "            else:\n",
    "                weights.append(float((maxVote-v+alpha)/(maxVote+alpha+beta)))\n",
    "    data[:,1] = weights\n",
    "    return data\n",
    "\n",
    "def splitFeatureWeight(x):\n",
    "    return x[:,1:], x[:,0]\n",
    "\n",
    "def createGroupsRandom(data, groupSize=int(1e5)):\n",
    "    positive = data[np.where(data[:,0]==1)]\n",
    "    negative = data[np.where(data[:,0]==0)]\n",
    "    posNum = positive.shape[0]\n",
    "    negNum = negative.shape[0]\n",
    "    idx = np.random.randint(low=0, high=posNum, size=groupSize)\n",
    "    query = np.array([positive[i,1:] for i in idx])\n",
    "    posDoc = shuffle(query)\n",
    "    idx = np.random.randint(low=0, high=negNum, size=groupSize)\n",
    "    negDoc0 = np.array([negative[i,1:] for i in idx])\n",
    "    negDoc1 = shuffle(negDoc0)\n",
    "    negDoc2 = shuffle(negDoc0)\n",
    "    \n",
    "    query, _ = splitFeatureWeight(query)\n",
    "    posDoc, posDocW = splitFeatureWeight(posDoc)\n",
    "    negDoc0, negDoc0W = splitFeatureWeight(negDoc0)\n",
    "    negDoc1, negDoc1W = splitFeatureWeight(negDoc1)\n",
    "    negDoc2, negDoc2W = splitFeatureWeight(negDoc2)\n",
    "    \n",
    "    groups = (query, posDoc, negDoc0, negDoc1, negDoc2)\n",
    "    weights = (posDocW, negDoc0W, negDoc1W, negDoc2W)\n",
    "    return groups, weights"
   ]
  },
  {
   "cell_type": "code",
   "execution_count": 95,
   "metadata": {},
   "outputs": [],
   "source": [
    "groups, weights = createGroupsRandom(data)"
   ]
  },
  {
   "cell_type": "code",
   "execution_count": 96,
   "metadata": {},
   "outputs": [
    {
     "data": {
      "text/plain": [
       "(100000, 50)"
      ]
     },
     "execution_count": 96,
     "metadata": {},
     "output_type": "execute_result"
    }
   ],
   "source": [
    "groups[0].shape"
   ]
  },
  {
   "cell_type": "code",
   "execution_count": 97,
   "metadata": {},
   "outputs": [
    {
     "data": {
      "text/plain": [
       "(100000,)"
      ]
     },
     "execution_count": 97,
     "metadata": {},
     "output_type": "execute_result"
    }
   ],
   "source": [
    "weights[0].shape"
   ]
  },
  {
   "cell_type": "code",
   "execution_count": 98,
   "metadata": {},
   "outputs": [
    {
     "data": {
      "text/plain": [
       "array([1. , 0.2, 1. , ..., 0.4, 0.2, 0.4])"
      ]
     },
     "execution_count": 98,
     "metadata": {},
     "output_type": "execute_result"
    }
   ],
   "source": [
    "weights[0]"
   ]
  },
  {
   "cell_type": "code",
   "execution_count": null,
   "metadata": {},
   "outputs": [],
   "source": []
  }
 ],
 "metadata": {
  "kernelspec": {
   "display_name": "Python 3",
   "language": "python",
   "name": "python3"
  },
  "language_info": {
   "codemirror_mode": {
    "name": "ipython",
    "version": 3
   },
   "file_extension": ".py",
   "mimetype": "text/x-python",
   "name": "python",
   "nbconvert_exporter": "python",
   "pygments_lexer": "ipython3",
   "version": "3.5.5"
  }
 },
 "nbformat": 4,
 "nbformat_minor": 2
}
